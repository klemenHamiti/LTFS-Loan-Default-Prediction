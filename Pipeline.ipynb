{
  "nbformat": 4,
  "nbformat_minor": 0,
  "metadata": {
    "colab": {
      "name": "Pipeline.ipynb",
      "version": "0.3.2",
      "provenance": [],
      "include_colab_link": true
    },
    "language_info": {
      "codemirror_mode": {
        "name": "ipython",
        "version": 3
      },
      "file_extension": ".py",
      "mimetype": "text/x-python",
      "name": "python",
      "nbconvert_exporter": "python",
      "pygments_lexer": "ipython3",
      "version": "3.7.3"
    },
    "kernelspec": {
      "display_name": "Python 3",
      "language": "python",
      "name": "python3"
    }
  },
  "cells": [
    {
      "cell_type": "markdown",
      "metadata": {
        "id": "view-in-github",
        "colab_type": "text"
      },
      "source": [
        "<a href=\"https://colab.research.google.com/github/klemenHamiti/LTFS-Loan-Default-Prediction/blob/master/Pipeline.ipynb\" target=\"_parent\"><img src=\"https://colab.research.google.com/assets/colab-badge.svg\" alt=\"Open In Colab\"/></a>"
      ]
    },
    {
      "metadata": {
        "id": "mzMSiGU56ByT",
        "colab_type": "code",
        "colab": {}
      },
      "cell_type": "code",
      "source": [
        "import pandas as pd\n",
        "import numpy as np\n",
        "import matplotlib.pyplot as plt\n",
        "from scipy.stats import chi2_contingency\n",
        "from collections import Counter\n",
        "%matplotlib inline"
      ],
      "execution_count": 0,
      "outputs": []
    },
    {
      "metadata": {
        "id": "jrv7_pZ46ByW",
        "colab_type": "code",
        "colab": {}
      },
      "cell_type": "code",
      "source": [
        "import warnings\n",
        "warnings.filterwarnings('ignore')"
      ],
      "execution_count": 0,
      "outputs": []
    },
    {
      "metadata": {
        "id": "7miKAAQW6ByY",
        "colab_type": "code",
        "colab": {}
      },
      "cell_type": "code",
      "source": [
        "# Pipeline and data preprocessing\n",
        "from sklearn.pipeline import Pipeline\n",
        "from sklearn.pipeline import FeatureUnion\n",
        "from sklearn.base import BaseEstimator, TransformerMixin, clone\n",
        "from sklearn.impute import SimpleImputer\n",
        "from sklearn.preprocessing import StandardScaler, LabelBinarizer, MinMaxScaler\n",
        "from sklearn.decomposition import PCA\n",
        "\n",
        "from sklearn.model_selection import cross_val_score, train_test_split, RandomizedSearchCV, StratifiedKFold\n",
        "\n",
        "# Models\n",
        "import xgboost as xgb\n",
        "from sklearn.ensemble import RandomForestClassifier\n",
        "from sklearn.linear_model import LogisticRegression\n",
        "from sklearn.discriminant_analysis import LinearDiscriminantAnalysis, QuadraticDiscriminantAnalysis\n",
        "from sklearn.neighbors import KNeighborsClassifier\n",
        "\n",
        "# Model evaluation\n",
        "from sklearn.metrics import confusion_matrix, roc_curve, roc_auc_score"
      ],
      "execution_count": 0,
      "outputs": []
    },
    {
      "metadata": {
        "id": "6Ap19HeF6Bya",
        "colab_type": "code",
        "colab": {}
      },
      "cell_type": "code",
      "source": [
        "class DataFrameSelector(BaseEstimator, TransformerMixin):\n",
        "    '''\n",
        "    Transforms pandas.DataFrame object with selected columns to numpy array\n",
        "    '''\n",
        "    def __init__(self, col_names):\n",
        "        '''\n",
        "        Args:\n",
        "            col_names (list): list of columns in DataFrame to keep\n",
        "        '''\n",
        "        self.col_names = col_names\n",
        "    \n",
        "    def fit(self, X, y=None):\n",
        "        return self\n",
        "    \n",
        "    def transform(self, X):\n",
        "        '''\n",
        "        Returns:\n",
        "            numpy.ndarray\n",
        "        '''\n",
        "        return X[self.col_names].values"
      ],
      "execution_count": 0,
      "outputs": []
    },
    {
      "metadata": {
        "id": "WjM4gnah6Byc",
        "colab_type": "code",
        "colab": {}
      },
      "cell_type": "code",
      "source": [
        "class DatesToNums(BaseEstimator, TransformerMixin):\n",
        "    '''\n",
        "    Transforms time in str format to numeric values for months\n",
        "    '''\n",
        "    def __init__(self):\n",
        "        pass\n",
        "    \n",
        "    def fit(self, X, y=None):\n",
        "        return self\n",
        "    \n",
        "    def transform(self, X, y=None):\n",
        "        '''\n",
        "        Returns:\n",
        "            numpy.ndarray\n",
        "        '''\n",
        "        new_vals = []\n",
        "        for i in range(X.shape[1]):\n",
        "            new_vals.append(list(map(self.join_loan_len, X[:,i].ravel())))\n",
        "        return np.array(new_vals).T\n",
        "    \n",
        "    def join_loan_len(self, val):\n",
        "        y, m = val.split(' ')\n",
        "        y = y.split('y')[0]\n",
        "        m = m.split('m')[0]\n",
        "        return int(y)*12 + int(m)"
      ],
      "execution_count": 0,
      "outputs": []
    },
    {
      "metadata": {
        "id": "-tKuBtc66Bye",
        "colab_type": "code",
        "colab": {}
      },
      "cell_type": "code",
      "source": [
        "class ExtractTotalAllowance(BaseEstimator, TransformerMixin):\n",
        "\n",
        "    def __init__(self):\n",
        "        pass\n",
        "    \n",
        "    def fit(self, X, y=None):\n",
        "        return self\n",
        "    \n",
        "    def transform(self, X, y=None):\n",
        "        return (X[:,0] / (X[:,1] / 100)).reshape(-1,1)"
      ],
      "execution_count": 0,
      "outputs": []
    },
    {
      "metadata": {
        "id": "kP0etRu26Byg",
        "colab_type": "code",
        "colab": {}
      },
      "cell_type": "code",
      "source": [
        "class ExtractOwnMoney(BaseEstimator, TransformerMixin):\n",
        "\n",
        "    def __init__(self):\n",
        "        pass\n",
        "    \n",
        "    def fit(self, X, y=None):\n",
        "        return self\n",
        "    \n",
        "    def transform(self, X, y=None):\n",
        "        return (X[:,0] - X[:,1]).reshape(-1,1)"
      ],
      "execution_count": 0,
      "outputs": []
    },
    {
      "metadata": {
        "id": "VjJzlTVY6Byi",
        "colab_type": "code",
        "colab": {}
      },
      "cell_type": "code",
      "source": [
        "class CustomEncoder(BaseEstimator, TransformerMixin):\n",
        "\n",
        "    def __init__(self):\n",
        "        pass\n",
        "    \n",
        "    def fit(self, X, y=None):\n",
        "        return self\n",
        "    \n",
        "    def transform(self, X, y=None):\n",
        "        new_vals = list(map(self.f, X.ravel()))\n",
        "        return np.array(new_vals).reshape(-1,1)\n",
        "        \n",
        "    def f(self, val):\n",
        "        if val == 'Salaried':\n",
        "            val = 1\n",
        "        elif val == 'Self employed':\n",
        "            val = 0"
      ],
      "execution_count": 0,
      "outputs": []
    },
    {
      "metadata": {
        "id": "M1hwJgC16Byj",
        "colab_type": "code",
        "colab": {}
      },
      "cell_type": "code",
      "source": [
        "class ReduceWithPCA(BaseEstimator, TransformerMixin):\n",
        "    '''\n",
        "    Reduces the dimensionality of the data with PCA\n",
        "    '''\n",
        "    def __init__(self):\n",
        "        pass\n",
        "    \n",
        "    def fit(self, X, y=None):\n",
        "        return self\n",
        "    \n",
        "    def transform(self, X, y=None):\n",
        "        pca = PCA(n_components=1)\n",
        "        return pca.fit_transform(X)"
      ],
      "execution_count": 0,
      "outputs": []
    },
    {
      "metadata": {
        "id": "mpAL7nL36Bym",
        "colab_type": "code",
        "colab": {}
      },
      "cell_type": "code",
      "source": [
        "class MyLabelBinarizer(TransformerMixin):\n",
        "    \n",
        "    def __init__(self, *args, **kwargs):\n",
        "        self.encoder = LabelBinarizer(*args, **kwargs)\n",
        "        \n",
        "    def fit(self, x, y=0):\n",
        "        self.encoder.fit(x)\n",
        "        return self\n",
        "    \n",
        "    def transform(self, x, y=0):\n",
        "        return self.encoder.transform(x)"
      ],
      "execution_count": 0,
      "outputs": []
    },
    {
      "metadata": {
        "id": "AY94sfr76Byo",
        "colab_type": "code",
        "colab": {}
      },
      "cell_type": "code",
      "source": [
        "def computeChi2(X_cat, y, cat_cols):\n",
        "    scores = {}\n",
        "    for i,col in enumerate(cat_cols):\n",
        "        table = [[np.sum((X_cat[:,i]==1)&(y==1)), np.sum((X_cat[:,i]==1)&(y==0))],\n",
        "                 [np.sum((X_cat[:,i]==0)&(y==1)), np.sum((X_cat[:,i]==0)&(y==0))]]\n",
        "        if np.count_nonzero(table) == 4:\n",
        "            p = chi2_contingency(table)[1]\n",
        "            if p > 0.05:\n",
        "                scores[col] = ('Independent Variables', p)\n",
        "            else:\n",
        "                scores[col] = ('Dependent Variables', p)\n",
        "        else:\n",
        "            scores[col] = 'Zero elements in table'\n",
        "    return scores"
      ],
      "execution_count": 0,
      "outputs": []
    },
    {
      "metadata": {
        "id": "HP-KBxP66Byq",
        "colab_type": "code",
        "colab": {}
      },
      "cell_type": "code",
      "source": [
        "def plot_roc_curve(fpr, tpr, label=None):\n",
        "    plt.plot(fpr, tpr, linewidth=2, label=label)\n",
        "    plt.plot([0,1],[0,1,], 'k--')\n",
        "    plt.axis([0, 1, 0, 1])\n",
        "    plt.xlabel('False Positive Rate')\n",
        "    plt.ylabel('True Positive Rate')"
      ],
      "execution_count": 0,
      "outputs": []
    },
    {
      "metadata": {
        "id": "tdnioNel6Bys",
        "colab_type": "code",
        "colab": {}
      },
      "cell_type": "code",
      "source": [
        "df_train = pd.read_csv('train_aox2Jxw/train.csv')\n",
        "df_test = pd.read_csv('test_bqCt9Pv.csv')\n",
        "\n",
        "# keep unique ID for predictions\n",
        "df_test.index = df_test['UniqueID']"
      ],
      "execution_count": 0,
      "outputs": []
    },
    {
      "metadata": {
        "id": "K4q1Nrp56Byu",
        "colab_type": "code",
        "colab": {}
      },
      "cell_type": "code",
      "source": [
        "X = df_train.drop('loan_default', axis=1).copy()\n",
        "y = df_train['loan_default'].values.copy()\n",
        "\n",
        "X_test = df_test.copy()"
      ],
      "execution_count": 0,
      "outputs": []
    },
    {
      "metadata": {
        "id": "Pb3iZKYS6Byv",
        "colab_type": "code",
        "colab": {}
      },
      "cell_type": "code",
      "source": [
        "# # test dependence of employment to loan default\n",
        "# binarizer = LabelBinarizer()\n",
        "# X['empl'] = SimpleImputer(strategy='most_frequent').fit_transform(X['Employment.Type'].values.reshape(-1,1))\n",
        "# X['empl'] = binarizer.fit_transform(X['empl'])\n",
        "\n",
        "# X_cat = X[['MobileNo_Avl_Flag',\n",
        "#            'Aadhar_flag',\n",
        "#            'PAN_flag',\n",
        "#            'Driving_flag',\n",
        "#            'Passport_flag',\n",
        "#            'empl']]\n",
        "\n",
        "# computeChi2(X_cat.values, y, X_cat.columns)"
      ],
      "execution_count": 0,
      "outputs": []
    },
    {
      "metadata": {
        "id": "-FSVZIX16Byw",
        "colab_type": "code",
        "colab": {},
        "outputId": "71d50e51-4661-4463-ada1-758b320feea5"
      },
      "cell_type": "code",
      "source": [
        "# Unique ids are not significant\n",
        "id_cols = [col for col in df_train.columns if ('ID' in col) | ('id' in col)]\n",
        "\n",
        "# Unsignificant categorical values based on chi2 test and domain knowledge\n",
        "unsignificant = ['PERFORM_CNS.SCORE.DESCRIPTION',\n",
        "                 'PAN_flag',\n",
        "                 'MobileNo_Avl_Flag',\n",
        "                 'Date.of.Birth',\n",
        "                 'DisbursalDate']\n",
        "\n",
        "unsignificant = unsignificant + id_cols\n",
        "\n",
        "# Drop the values\n",
        "X = df_train.drop(unsignificant+['loan_default'], axis=1) # empl used only for testing purposes\n",
        "X_test = df_test.drop(unsignificant, axis=1)\n",
        "\n",
        "# Columns to keep\n",
        "columns = X.columns.to_list()\n",
        "# New shape of X\n",
        "print(X.shape)"
      ],
      "execution_count": 0,
      "outputs": [
        {
          "output_type": "stream",
          "text": [
            "(233154, 27)\n"
          ],
          "name": "stdout"
        }
      ]
    },
    {
      "metadata": {
        "id": "A6S_565f6Byz",
        "colab_type": "code",
        "colab": {}
      },
      "cell_type": "code",
      "source": [
        "cat_atribs = ['Employment.Type',\n",
        "              'CREDIT.HISTORY.LENGTH',\n",
        "              'AVERAGE.ACCT.AGE',\n",
        "              'Aadhar_flag',\n",
        "              'Driving_flag',\n",
        "              'Passport_flag']\n",
        "\n",
        "pca_atribs = ['PRI.CURRENT.BALANCE','PRI.SANCTIONED.AMOUNT','PRI.DISBURSED.AMOUNT',\n",
        "              'SEC.CURRENT.BALANCE','SEC.SANCTIONED.AMOUNT','SEC.DISBURSED.AMOUNT']\n",
        "\n",
        "extractions = ['asset_cost', 'disbursment_amount', 'asset_cost', 'ltv']\n",
        "\n",
        "num_atribs = [col for col in columns if col not in cat_atribs+pca_atribs]"
      ],
      "execution_count": 0,
      "outputs": []
    },
    {
      "metadata": {
        "id": "gE2222sb6By0",
        "colab_type": "code",
        "colab": {}
      },
      "cell_type": "code",
      "source": [
        "num_pipeline = Pipeline([\n",
        "    ('selector', DataFrameSelector(num_atribs)),\n",
        "    ('min_max_scaler', MinMaxScaler()),\n",
        "])\n",
        "\n",
        "loan_pipeline = Pipeline([\n",
        "    ('selector', DataFrameSelector(['asset_cost', 'ltv'])),\n",
        "    ('extract_allowance', ExtractTotalAllowance()),\n",
        "    ('scaler', MinMaxScaler()),\n",
        "])\n",
        "\n",
        "own_money_pipeline = Pipeline([\n",
        "    ('selector', DataFrameSelector(['disbursed_amount', 'asset_cost'])),\n",
        "    ('extract_loan', ExtractOwnMoney()),\n",
        "    ('min_max_scaler', MinMaxScaler()),\n",
        "])\n",
        "\n",
        "# Contains nan values\n",
        "empl_pipeline = Pipeline([\n",
        "    ('selecor', DataFrameSelector(['Employment.Type'])),\n",
        "#     ('imputer', SimpleImputer(strategy='most_frequent')),\n",
        "#     ('ecoder', MyLabelBinarizer()),\n",
        "    ('encoder', CustomEncoder()),\n",
        "])\n",
        "\n",
        "dates_pipeline = Pipeline([\n",
        "    ('selector', DataFrameSelector(['CREDIT.HISTORY.LENGTH', 'AVERAGE.ACCT.AGE'])),\n",
        "    ('credit_history', DatesToNums()),\n",
        "])\n",
        "\n",
        "pri_acc_pipeline = Pipeline([\n",
        "    ('selector', DataFrameSelector(['PRI.CURRENT.BALANCE','PRI.SANCTIONED.AMOUNT','PRI.DISBURSED.AMOUNT'])),\n",
        "    ('std_scaler', StandardScaler()),\n",
        "    ('pca', ReduceWithPCA()),\n",
        "    ('min_max_scaler', MinMaxScaler()),\n",
        "])\n",
        "\n",
        "sec_acc_pipeline = Pipeline([\n",
        "    ('selector', DataFrameSelector(['SEC.CURRENT.BALANCE','SEC.SANCTIONED.AMOUNT','SEC.DISBURSED.AMOUNT'])),\n",
        "    ('std_scaler', StandardScaler()),\n",
        "    ('pca', ReduceWithPCA()),\n",
        "    ('min_max_scaler', MinMaxScaler()),\n",
        "])\n",
        "\n",
        "all_else_pipeline = Pipeline([\n",
        "    ('selector', DataFrameSelector(['Aadhar_flag','Driving_flag','Passport_flag'])),\n",
        "])\n",
        "\n",
        "pipeline = FeatureUnion([\n",
        "    ('num_pipeline', num_pipeline),\n",
        "    ('empl_pipeline', empl_pipeline),\n",
        "    ('dates_pipeline', dates_pipeline),\n",
        "    ('loan_pipeline', loan_pipeline),\n",
        "    ('own_money_pipeline', own_money_pipeline),\n",
        "    ('pca1', pri_acc_pipeline),\n",
        "    ('pca2', sec_acc_pipeline),\n",
        "    ('all_else', all_else_pipeline)\n",
        "])\n",
        "\n",
        "X_train = pipeline.fit_transform(X)\n",
        "X_test = pipeline.transform(X_test)"
      ],
      "execution_count": 0,
      "outputs": []
    },
    {
      "metadata": {
        "id": "mqg4GEHc6By3",
        "colab_type": "code",
        "colab": {},
        "outputId": "0bcc34a5-c6ad-41f8-face-29c2946852d3"
      },
      "cell_type": "code",
      "source": [
        "X_train.shape"
      ],
      "execution_count": 0,
      "outputs": [
        {
          "output_type": "execute_result",
          "data": {
            "text/plain": [
              "(233154, 25)"
            ]
          },
          "metadata": {
            "tags": []
          },
          "execution_count": 19
        }
      ]
    },
    {
      "metadata": {
        "id": "bbqmI44O6By5",
        "colab_type": "code",
        "colab": {}
      },
      "cell_type": "code",
      "source": [
        "# Class weight balancing\n",
        "cw = (len(y) - sum(y)) / sum(y)\n",
        "\n",
        "model_params = {'learning_rate': 0.01,\n",
        "                'objective':'binary:logistic',\n",
        "                'eval_metric':'auc',\n",
        "                'n_estimators':500,\n",
        "                'max_depth':5,\n",
        "                'min_child_weight':1,\n",
        "                'colsample_bytetree':0.8,\n",
        "                'subsample':0.8,\n",
        "                'scale_pos_weight':cw,\n",
        "                'seed':42,\n",
        "                'gamma':0}\n",
        "\n",
        "xgb_model = xgb.XGBRegressor(**model_params)"
      ],
      "execution_count": 0,
      "outputs": []
    },
    {
      "metadata": {
        "id": "Sd4smN9j6By6",
        "colab_type": "code",
        "colab": {}
      },
      "cell_type": "code",
      "source": [
        "score = cross_val_score(xgb_model, X_train, y, scoring='roc_auc', cv=5)"
      ],
      "execution_count": 0,
      "outputs": []
    },
    {
      "metadata": {
        "id": "Z1IW3uCd6By8",
        "colab_type": "code",
        "colab": {},
        "outputId": "9b097b53-45b9-4ae0-9c26-483a67cef19d"
      },
      "cell_type": "code",
      "source": [
        "score"
      ],
      "execution_count": 0,
      "outputs": [
        {
          "output_type": "execute_result",
          "data": {
            "text/plain": [
              "array([0.62968881, 0.63952179, 0.64001435, 0.63520637, 0.6281739 ])"
            ]
          },
          "metadata": {
            "tags": []
          },
          "execution_count": 70
        }
      ]
    },
    {
      "metadata": {
        "id": "k66A-NTp6By-",
        "colab_type": "code",
        "colab": {},
        "outputId": "4a851e57-5261-4aba-f527-5c3d66d4ce8f"
      },
      "cell_type": "code",
      "source": [
        "score.mean()"
      ],
      "execution_count": 0,
      "outputs": [
        {
          "output_type": "execute_result",
          "data": {
            "text/plain": [
              "0.6345210443302411"
            ]
          },
          "metadata": {
            "tags": []
          },
          "execution_count": 71
        }
      ]
    },
    {
      "metadata": {
        "id": "1Ha-7CRb6BzA",
        "colab_type": "code",
        "colab": {},
        "outputId": "93fd9b92-964a-4e15-f883-56b699e74a78"
      },
      "cell_type": "code",
      "source": [
        "score.mean()"
      ],
      "execution_count": 0,
      "outputs": [
        {
          "output_type": "execute_result",
          "data": {
            "text/plain": [
              "0.6346975110944589"
            ]
          },
          "metadata": {
            "tags": []
          },
          "execution_count": 28
        }
      ]
    },
    {
      "metadata": {
        "id": "Q0uezyi86BzE",
        "colab_type": "code",
        "colab": {},
        "outputId": "617a88a3-b4d5-41fc-f5f4-db84e02bab81"
      },
      "cell_type": "code",
      "source": [
        "xgb_model.fit(X_train, y)\n",
        "\n",
        "# Performance on train set\n",
        "preds_train = xgb_model.predict(X_train)\n",
        "# Area under ROC Curve\n",
        "print('Area under ROC: {}'.format(roc_auc_score(y, preds_train)))\n",
        "# Plot ROC Curve\n",
        "fpr, tpr, treshold = roc_curve(y, preds_train)\n",
        "plot_roc_curve(fpr, tpr)\n",
        "plt.show()"
      ],
      "execution_count": 0,
      "outputs": [
        {
          "output_type": "stream",
          "text": [
            "Area under ROC: 0.6758562905084077\n"
          ],
          "name": "stdout"
        },
        {
          "output_type": "display_data",
          "data": {
            "image/png": "[encoded data removed]",
            "text/plain": [
              "<Figure size 432x288 with 1 Axes>"
            ]
          },
          "metadata": {
            "tags": [],
            "needs_background": "light"
          }
        }
      ]
    },
    {
      "metadata": {
        "id": "GZjQ7_NC6BzG",
        "colab_type": "code",
        "colab": {}
      },
      "cell_type": "code",
      "source": [
        "# Predict the test set\n",
        "preds_test = xgb_model.predict(X_test)\n",
        "results = pd.DataFrame({'UniqueID':df_test.index, 'loan_default':preds_test})\n",
        "results.to_csv('results2.csv', index=False)"
      ],
      "execution_count": 0,
      "outputs": []
    },
    {
      "metadata": {
        "id": "ro_XPSF96BzI",
        "colab_type": "code",
        "colab": {}
      },
      "cell_type": "code",
      "source": [
        "#=================================================================================================================\n",
        "#=================================================================================================================\n",
        "#=================================================================================================================\n",
        "#=================================================================================================================\n",
        "#=================================================================================================================\n",
        "#=================================================================================================================\n",
        "#=================================================================================================================\n",
        "#================================================================================================================="
      ],
      "execution_count": 0,
      "outputs": []
    },
    {
      "metadata": {
        "id": "i4fr6_6o6BzK",
        "colab_type": "code",
        "colab": {},
        "outputId": "5b6d448f-582f-4c8e-bb7b-1815816bbd16"
      },
      "cell_type": "code",
      "source": [
        "def regress(*args):\n",
        "    scores = {}\n",
        "    for i in range(X_train.shape[1]):\n",
        "        print(i)\n",
        "        if i != 15:\n",
        "            log_model = LogisticRegression(class_weight='balanced')\n",
        "            log_model.fit(X_train[:,i].reshape(-1,1), y)\n",
        "            score = log_model.predict(X_train[:,i].reshape(-1,1))\n",
        "            scores[i] = roc_auc_score(y, score)\n",
        "    return scores\n",
        "score = regress(X_train, y)"
      ],
      "execution_count": 0,
      "outputs": [
        {
          "output_type": "stream",
          "text": [
            "0\n",
            "1\n",
            "2\n",
            "3\n",
            "4\n",
            "5\n",
            "6\n",
            "7\n",
            "8\n",
            "9\n",
            "10\n",
            "11\n",
            "12\n",
            "13\n",
            "14\n",
            "15\n",
            "16\n",
            "17\n",
            "18\n",
            "19\n",
            "20\n",
            "21\n",
            "22\n",
            "23\n",
            "24\n"
          ],
          "name": "stdout"
        }
      ]
    },
    {
      "metadata": {
        "id": "ePvdttEM6BzM",
        "colab_type": "code",
        "colab": {},
        "outputId": "2534f9b6-a294-4317-de24-e7215abc450d"
      },
      "cell_type": "code",
      "source": [
        "print((score))"
      ],
      "execution_count": 0,
      "outputs": [
        {
          "output_type": "stream",
          "text": [
            "{0: 0.5469914728836991, 1: 0.5207246986913403, 2: 0.5222623606407099, 3: 0.5165146943816712, 4: 0.5189206734200448, 5: 0.5020330962679871, 6: 0.5013193811802091, 7: 0.5002551947396328, 8: 0.507241636919701, 9: 0.5008339558631195, 10: 0.5162132507920401, 11: 0.5123583037698156, 12: 0.5161880956394544, 13: 0.5168094885392502, 14: 0.5168436400491138, 15: 0.5166291653416027, 16: 0.5239389147777036, 17: 0.5383659749277144, 18: 0.5218743033602478, 19: 0.501137098233701, 20: 0.5, 21: 0.5184788527451204, 22: 0.5006560256470421, 23: 0.5010638334140978, 24: 0.5004248256674256}\n"
          ],
          "name": "stdout"
        }
      ]
    },
    {
      "metadata": {
        "id": "mBs1uIGy6BzO",
        "colab_type": "code",
        "colab": {},
        "outputId": "85a29528-c6dc-43f5-82bc-66ee24d3e6a0"
      },
      "cell_type": "code",
      "source": [
        "print((score))"
      ],
      "execution_count": 0,
      "outputs": [
        {
          "output_type": "stream",
          "text": [
            "{0: 0.5469914728836991, 1: 0.5092309622880735, 2: 0.5482033273832243, 3: 0.5207246986913403, 4: 0.5222623606407099, 5: 0.5165146943816712, 6: 0.5189206734200448, 7: 0.5020330962679871, 8: 0.5013193811802091, 9: 0.5002551947396328, 10: 0.507241636919701, 11: 0.5008339558631195, 12: 0.5162132507920401, 13: 0.5123583037698156, 14: 0.5161880956394544, 16: 0.5168436400491138, 17: 0.5166291653416027, 18: 0.5239389147777036, 19: 0.5383659749277144, 20: 0.5218743033602478, 21: 0.501137098233701, 22: 0.5184788527451204, 23: 0.5010638334140978, 24: 0.5004248256674256}\n"
          ],
          "name": "stdout"
        }
      ]
    },
    {
      "metadata": {
        "id": "GDRrE3LO6BzQ",
        "colab_type": "code",
        "colab": {},
        "outputId": "0d02c119-fc10-402b-def7-569a7cda54e8"
      },
      "cell_type": "code",
      "source": [
        "log_model = LogisticRegression(class_weight='balanced')\n",
        "log_model.fit(X['PRI.ACTIVE.ACCTS'])"
      ],
      "execution_count": 0,
      "outputs": [
        {
          "output_type": "execute_result",
          "data": {
            "text/plain": [
              "1"
            ]
          },
          "metadata": {
            "tags": []
          },
          "execution_count": 67
        }
      ]
    },
    {
      "metadata": {
        "id": "YewC0Tej6BzT",
        "colab_type": "code",
        "colab": {}
      },
      "cell_type": "code",
      "source": [
        "import keras\n",
        "from keras.models import Sequential\n",
        "from keras.layers import Dense"
      ],
      "execution_count": 0,
      "outputs": []
    },
    {
      "metadata": {
        "id": "AdVGpYsd6BzU",
        "colab_type": "code",
        "colab": {}
      },
      "cell_type": "code",
      "source": [
        "import tensorflow as tf\n",
        "from tensorflow import keras\n",
        "from tensorflow.keras.models import Sequential\n",
        "from tensorflow.keras.layers import Dense\n",
        "from tensorflow.keras import optimizers"
      ],
      "execution_count": 0,
      "outputs": []
    },
    {
      "metadata": {
        "id": "h1w2xdav6BzW",
        "colab_type": "code",
        "colab": {}
      },
      "cell_type": "code",
      "source": [
        "def roc(y_true, y_preds):\n",
        "    return roc_auc_score(y_true, y_preds)"
      ],
      "execution_count": 0,
      "outputs": []
    },
    {
      "metadata": {
        "id": "nfK6VJKQ6BzX",
        "colab_type": "code",
        "colab": {}
      },
      "cell_type": "code",
      "source": [
        "skfold = StratifiedKFold(n_splits=10, shuffle=True, random_state=42)"
      ],
      "execution_count": 0,
      "outputs": []
    },
    {
      "metadata": {
        "id": "kpKcuFCb6BzZ",
        "colab_type": "code",
        "colab": {}
      },
      "cell_type": "code",
      "source": [
        "model = Sequential()\n",
        "model.add(Dense(128, input_shape=(25,), activation=tf.nn.relu))\n",
        "model.add(Dense(128, activation=tf.nn.relu))\n",
        "model.add(Dense(256, activation=tf.nn.relu))\n",
        "model.add(Dense(256, activation=tf.nn.relu))\n",
        "model.add(Dense(256, activation=tf.nn.relu))\n",
        "model.add(Dense(1, activation=tf.nn.relu))\n",
        "\n",
        "cw = len(y_train) / (2 * np.bincount(y_train))\n",
        "\n",
        "optim = optimizers.RMSprop(lr = 0.0001, decay=1e-3)\n",
        "\n",
        "model.compile(optimizer=optim,\n",
        "              loss='binary_crossentropy',\n",
        "              metrics=[roc])"
      ],
      "execution_count": 0,
      "outputs": []
    },
    {
      "metadata": {
        "id": "4ND4Bu3D6Bza",
        "colab_type": "code",
        "colab": {}
      },
      "cell_type": "code",
      "source": [
        "for train_index, test_index in skfold.split(X, y):\n",
        "    model.fit(X[train_index], y[train_index], class_weight=cw)\n",
        "    preds = model.predict(X[test_index])\n",
        "    print(roc_auc_score(y[test_index], preds))"
      ],
      "execution_count": 0,
      "outputs": []
    },
    {
      "metadata": {
        "id": "etSKptjD6Bzc",
        "colab_type": "code",
        "colab": {}
      },
      "cell_type": "code",
      "source": [
        ""
      ],
      "execution_count": 0,
      "outputs": []
    }
  ]
}